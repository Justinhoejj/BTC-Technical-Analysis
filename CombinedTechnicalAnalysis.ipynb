{
 "cells": [
  {
   "cell_type": "markdown",
   "id": "3b2a2a67",
   "metadata": {},
   "source": [
    "This program takes in historical data and analyses the performance with respect to different technical indicators."
   ]
  },
  {
   "cell_type": "code",
   "execution_count": 2,
   "id": "b02a75c1",
   "metadata": {},
   "outputs": [],
   "source": [
    "import pandas as pd\n",
    "import numpy as np\n",
    "import matplotlib.pyplot as plt\n",
    "plt.style.use('fivethirtyeight')"
   ]
  },
  {
   "cell_type": "code",
   "execution_count": 3,
   "id": "27e329b9",
   "metadata": {},
   "outputs": [],
   "source": [
    "# On balance volume\n",
    "def analyse_OBV(data):\n",
    "    OBV = [0]\n",
    "    for i in range(1, len(data.Close)):\n",
    "        if data.Close[i] > data.Close[i - 1]:\n",
    "            OBV.append(OBV[-1] + data.Volume[i])\n",
    "        elif data.Close[i] < data.Close[i - 1]:\n",
    "            OBV.append(OBV[-1] - data.Volume[i])\n",
    "        else:\n",
    "            OBV.append(OBV[-1])\n",
    "    return OBV"
   ]
  },
  {
   "cell_type": "code",
   "execution_count": 4,
   "id": "d29cde01",
   "metadata": {},
   "outputs": [],
   "source": [
    "# Stochastic RSI\n",
    "def analyse_stochRSI(data, period=14):\n",
    "    delta = data.Close.diff(1)\n",
    "    delta = delta.dropna()\n",
    "    up = delta.copy()\n",
    "    down = delta.copy()\n",
    "    up[up < 0] = 0\n",
    "    down[down > 0] = 0\n",
    "    avgGain = up.ewm(span=period, adjust=False).mean()\n",
    "    avgLoss = down.ewm(span=period, adjust=False).mean()\n",
    "    rs = avgGain/avgLoss\n",
    "    rsi = 100 - (100 / (1 + rs))\n",
    "    stochRsi = (rsi - rsi.rolling(period).min()) / (rsi.rolling(period).max() - rsi.rolling(period).min())\n",
    "    return stochRsi"
   ]
  },
  {
   "cell_type": "code",
   "execution_count": 5,
   "id": "507b8e91",
   "metadata": {},
   "outputs": [],
   "source": [
    "# Moving Average Convergence Divergence\n",
    "def analyse_MACD(data, short_span=12, long_span=26):\n",
    "    shortEma = data.Close.ewm(span=short_span, adjust=False).mean()\n",
    "    longEma = data.Close.ewm(span=long_span, adjust=False).mean()\n",
    "    macd = shortEma - longEma\n",
    "    return macd"
   ]
  },
  {
   "cell_type": "code",
   "execution_count": 6,
   "id": "1652def3",
   "metadata": {},
   "outputs": [],
   "source": [
    "# Simple moving average\n",
    "def sma(data, period=30):\n",
    "    data.Close.rolling(period).mean()"
   ]
  },
  {
   "cell_type": "code",
   "execution_count": 7,
   "id": "eb80df63",
   "metadata": {},
   "outputs": [],
   "source": [
    "# Exponential moving average\n",
    "def ema(data, period=30):\n",
    "    data.Close.ewm(window=period).mean()"
   ]
  },
  {
   "cell_type": "code",
   "execution_count": 8,
   "id": "ff1c8e41",
   "metadata": {},
   "outputs": [],
   "source": [
    "def analyse_upper_lower_bollinger_bands(data, period=20):\n",
    "    sma = data.Close.rolling(window=period).mean()\n",
    "    sd = data.Close.rolling(window=period).std()\n",
    "    upperBand = sma + (sd * 2)\n",
    "    lowerBand = sma - (sd * 2)\n",
    "    return (upperBand, lowerBand)"
   ]
  },
  {
   "cell_type": "code",
   "execution_count": 9,
   "id": "4a9652b2",
   "metadata": {},
   "outputs": [],
   "source": [
    "def analyse_ATR(data, period=20):\n",
    "    high_low = data['High'] - data['Low']\n",
    "    high_prevClose = np.abs(data['High'] - data['Close'].shift(1))\n",
    "    low_prevClose = np.abs(data['Low'] - data['Close'].shift(1))\n",
    "    tempdf = pd.concat([high_low, high_prevClose, low_prevClose], axis=1)\n",
    "    tempdf.dropna(subset=[0, 1, 2], inplace=True)\n",
    "    true_range = tempdf.max(axis=1)\n",
    "    ATR = true_range.rolling(14).mean()\n",
    "    return ATR"
   ]
  },
  {
   "cell_type": "code",
   "execution_count": 10,
   "id": "c50003f5",
   "metadata": {},
   "outputs": [],
   "source": [
    "def analyse(filePath):\n",
    "    df = pd.read_csv('BTC-USD.csv')\n",
    "    df = df.set_index(pd.DatetimeIndex(df['Date'].values))\n",
    "    df['OBV'] = analyse_OBV(df)\n",
    "    df['RSI'] = analyse_stochRSI(df)\n",
    "    df['MACD'] = analyse_MACD(df)\n",
    "    df['ATR'] = analyse_ATR(df)\n",
    "    bollinger_bands = analyse_upper_lower_bollinger_bands(df)\n",
    "    df['Upper Bollinger Band'] = bollinger_bands[0]\n",
    "    df['Lower Bollinger Band'] = bollinger_bands[1]\n",
    "    return df"
   ]
  },
  {
   "cell_type": "code",
   "execution_count": 11,
   "id": "e02c3125",
   "metadata": {},
   "outputs": [],
   "source": [
    "def execute_OBV_EMA(data, use_stop_loss=False):\n",
    "    data['OBV_EMA'] = data['OBV'].ewm(span=20).mean()\n",
    "    data['Trend'] = np.where(data.OBV > data.OBV_EMA,1 , 0)\n",
    "    data['Signal'] = data['Trend'].diff()\n",
    "    data['OBV_Buy_Price'] = np.where(df['Signal'] == 1, data['Close'], np.nan)\n",
    "    data['OBV_Sell_Price'] = np.where(df['Signal'] == -1, data['Close'], np.nan)\n",
    "    data.drop('Trend', axis=1, inplace=True)\n",
    "    data.drop('Signal', axis=1, inplace=True)\n",
    "    \n",
    "    capital = 100\n",
    "    holdQty = 0\n",
    "    stopLoss = 0\n",
    "    isHolding = False\n",
    "    for i in range(len(data)):\n",
    "        dayClose = data.Close[i]\n",
    "        buyPrice = data.OBV_Buy_Price[i]\n",
    "        sellPrice = data.OBV_Sell_Price[i]\n",
    "        if(not isHolding and not np.isnan(buyPrice)):\n",
    "            holdQty = capital / buyPrice\n",
    "            isHolding = True\n",
    "        elif(isHolding and not np.isnan(sellPrice)):\n",
    "            capital = holdQty * sellPrice\n",
    "            isHolding = False\n",
    "        elif(use_stop_loss and dayClose < stopLoss):\n",
    "            capital = holdQty * data.Close[i]\n",
    "            isHolding = False\n",
    "        else:\n",
    "            continue\n",
    "        stopLoss = dayClose - 7 * data.ATR[i]\n",
    "    percentageChange = capital - 100\n",
    "    return np.round(percentageChange, 3)\n",
    "        "
   ]
  },
  {
   "cell_type": "code",
   "execution_count": 12,
   "id": "7dbced72",
   "metadata": {},
   "outputs": [],
   "source": [
    "def execute_MACD(data, use_stop_loss=False):\n",
    "    data['MACD_EMA'] = data.MACD.ewm(span=9, adjust=False).mean()\n",
    "    data['Trend'] = np.where(data.MACD > data.MACD_EMA,1 , 0)\n",
    "    data['Signal'] = data['Trend'].diff()\n",
    "    data['MACD_Buy_Price'] = np.where(df['Signal'] == 1, data['Close'], np.nan)\n",
    "    data['MACD_Sell_Price'] = np.where(df['Signal'] == -1, data['Close'], np.nan)\n",
    "    data.drop('Trend', axis=1, inplace=True)\n",
    "    data.drop('Signal', axis=1, inplace=True)\n",
    "    \n",
    "    capital = 100\n",
    "    holdQty = 0\n",
    "    stopLoss = 0\n",
    "    isHolding = False\n",
    "    for i in range(len(data)):\n",
    "        buyPrice = data.MACD_Buy_Price[i]\n",
    "        sellPrice = data.MACD_Sell_Price[i]\n",
    "        dayClose = data.Close[i]\n",
    "        if(not isHolding and not np.isnan(buyPrice)):\n",
    "            holdQty = capital / buyPrice\n",
    "            isHolding = True\n",
    "        elif(isHolding and not np.isnan(sellPrice)):\n",
    "            capital = holdQty * sellPrice\n",
    "            isHolding = False\n",
    "        elif(use_stop_loss and isHolding and dayClose < stopLoss):\n",
    "            capital = holdQty * dayClose\n",
    "            isHolding = False\n",
    "        else:\n",
    "            continue\n",
    "        stopLoss = dayClose - data.ATR[i]\n",
    "    percentageChange = capital - 100\n",
    "    return np.round(percentageChange, 3)\n",
    "    "
   ]
  },
  {
   "cell_type": "code",
   "execution_count": 13,
   "id": "a2b042cf",
   "metadata": {},
   "outputs": [],
   "source": [
    "df = analyse('BTC-USD.csv')\n",
    "df = df.tail(365)"
   ]
  },
  {
   "cell_type": "code",
   "execution_count": 14,
   "id": "7f6ec9c6",
   "metadata": {},
   "outputs": [
    {
     "name": "stdout",
     "output_type": "stream",
     "text": [
      "Percentage gain with stop loss(7 * ATR): 231.663\n"
     ]
    }
   ],
   "source": [
    "print(f'Percentage gain with stop loss(7 * ATR): {execute_OBV_EMA(df, use_stop_loss=True)}')"
   ]
  },
  {
   "cell_type": "code",
   "execution_count": 15,
   "id": "9934f9c3",
   "metadata": {},
   "outputs": [
    {
     "name": "stdout",
     "output_type": "stream",
     "text": [
      "Percentage gain without stop loss: 231.663\n"
     ]
    }
   ],
   "source": [
    "print(f'Percentage gain without stop loss: {execute_OBV_EMA(df, use_stop_loss=False)}')"
   ]
  },
  {
   "cell_type": "code",
   "execution_count": 16,
   "id": "9833943d",
   "metadata": {},
   "outputs": [
    {
     "name": "stdout",
     "output_type": "stream",
     "text": [
      "Percentage gain with stop loss(1 * ATR): 116.325\n"
     ]
    }
   ],
   "source": [
    "print(f'Percentage gain with stop loss(1 * ATR): {execute_MACD(df, use_stop_loss=True)}')"
   ]
  },
  {
   "cell_type": "code",
   "execution_count": 17,
   "id": "d208b2e5",
   "metadata": {},
   "outputs": [
    {
     "name": "stdout",
     "output_type": "stream",
     "text": [
      "Percentage gain without stop loss: 99.359\n"
     ]
    }
   ],
   "source": [
    "print(f'Percentage gain without stop loss: {execute_MACD(df, use_stop_loss=False)}')"
   ]
  },
  {
   "cell_type": "markdown",
   "id": "7f443706",
   "metadata": {},
   "source": [
    "Through a series of trial and error:\n",
    "\n",
    "The on Balance Volume trade strategy with stop loss of 7 times the Average True Range with produce the best outcome, however this performance is significantly impacted. A strategy without stoploss is produces 3x more returns.\n",
    "\n",
    "The MACD Cross over trading strategy with a stop loss of 1 times the Average True Range provides higher returns.\n",
    "\n",
    "An attempt to utilise the lower bollinger bands as stop loss did not yield improved returns."
   ]
  },
  {
   "cell_type": "code",
   "execution_count": 18,
   "id": "1c4f6be2",
   "metadata": {},
   "outputs": [
    {
     "data": {
      "text/html": [
       "<div>\n",
       "<style scoped>\n",
       "    .dataframe tbody tr th:only-of-type {\n",
       "        vertical-align: middle;\n",
       "    }\n",
       "\n",
       "    .dataframe tbody tr th {\n",
       "        vertical-align: top;\n",
       "    }\n",
       "\n",
       "    .dataframe thead th {\n",
       "        text-align: right;\n",
       "    }\n",
       "</style>\n",
       "<table border=\"1\" class=\"dataframe\">\n",
       "  <thead>\n",
       "    <tr style=\"text-align: right;\">\n",
       "      <th></th>\n",
       "      <th>Date</th>\n",
       "      <th>Open</th>\n",
       "      <th>High</th>\n",
       "      <th>Low</th>\n",
       "      <th>Close</th>\n",
       "      <th>Volume</th>\n",
       "      <th>OBV</th>\n",
       "      <th>RSI</th>\n",
       "      <th>MACD</th>\n",
       "      <th>ATR</th>\n",
       "      <th>Upper Bollinger Band</th>\n",
       "      <th>Lower Bollinger Band</th>\n",
       "      <th>OBV_EMA</th>\n",
       "      <th>OBV_Buy_Price</th>\n",
       "      <th>OBV_Sell_Price</th>\n",
       "      <th>MACD_EMA</th>\n",
       "      <th>MACD_Buy_Price</th>\n",
       "      <th>MACD_Sell_Price</th>\n",
       "    </tr>\n",
       "  </thead>\n",
       "  <tbody>\n",
       "    <tr>\n",
       "      <th>2020-12-09</th>\n",
       "      <td>2020-12-09</td>\n",
       "      <td>18320.884766</td>\n",
       "      <td>18626.292969</td>\n",
       "      <td>17935.546875</td>\n",
       "      <td>18553.916016</td>\n",
       "      <td>3.442037e+10</td>\n",
       "      <td>9.663333e+11</td>\n",
       "      <td>0.000000</td>\n",
       "      <td>726.387806</td>\n",
       "      <td>990.038226</td>\n",
       "      <td>20003.400167</td>\n",
       "      <td>17229.831083</td>\n",
       "      <td>9.663333e+11</td>\n",
       "      <td>NaN</td>\n",
       "      <td>NaN</td>\n",
       "      <td>726.387806</td>\n",
       "      <td>NaN</td>\n",
       "      <td>NaN</td>\n",
       "    </tr>\n",
       "    <tr>\n",
       "      <th>2020-12-10</th>\n",
       "      <td>2020-12-10</td>\n",
       "      <td>18553.298828</td>\n",
       "      <td>18553.298828</td>\n",
       "      <td>17957.064453</td>\n",
       "      <td>18264.992188</td>\n",
       "      <td>2.554713e+10</td>\n",
       "      <td>9.407862e+11</td>\n",
       "      <td>0.546886</td>\n",
       "      <td>637.850069</td>\n",
       "      <td>853.009766</td>\n",
       "      <td>19994.456887</td>\n",
       "      <td>17203.142136</td>\n",
       "      <td>9.529211e+11</td>\n",
       "      <td>NaN</td>\n",
       "      <td>NaN</td>\n",
       "      <td>708.680258</td>\n",
       "      <td>NaN</td>\n",
       "      <td>NaN</td>\n",
       "    </tr>\n",
       "    <tr>\n",
       "      <th>2020-12-11</th>\n",
       "      <td>2020-12-11</td>\n",
       "      <td>18263.929688</td>\n",
       "      <td>18268.453125</td>\n",
       "      <td>17619.533203</td>\n",
       "      <td>18058.904297</td>\n",
       "      <td>2.791964e+10</td>\n",
       "      <td>9.128665e+11</td>\n",
       "      <td>0.601216</td>\n",
       "      <td>544.773889</td>\n",
       "      <td>833.746931</td>\n",
       "      <td>19985.700270</td>\n",
       "      <td>17153.565942</td>\n",
       "      <td>9.382133e+11</td>\n",
       "      <td>NaN</td>\n",
       "      <td>NaN</td>\n",
       "      <td>675.898985</td>\n",
       "      <td>NaN</td>\n",
       "      <td>NaN</td>\n",
       "    </tr>\n",
       "    <tr>\n",
       "      <th>2020-12-12</th>\n",
       "      <td>2020-12-12</td>\n",
       "      <td>18051.320313</td>\n",
       "      <td>18919.550781</td>\n",
       "      <td>18046.041016</td>\n",
       "      <td>18803.656250</td>\n",
       "      <td>2.175258e+10</td>\n",
       "      <td>9.346191e+11</td>\n",
       "      <td>0.991425</td>\n",
       "      <td>525.053120</td>\n",
       "      <td>828.762835</td>\n",
       "      <td>20007.792617</td>\n",
       "      <td>17174.839024</td>\n",
       "      <td>9.371757e+11</td>\n",
       "      <td>NaN</td>\n",
       "      <td>NaN</td>\n",
       "      <td>645.729812</td>\n",
       "      <td>NaN</td>\n",
       "      <td>NaN</td>\n",
       "    </tr>\n",
       "    <tr>\n",
       "      <th>2020-12-13</th>\n",
       "      <td>2020-12-13</td>\n",
       "      <td>18806.765625</td>\n",
       "      <td>19381.535156</td>\n",
       "      <td>18734.332031</td>\n",
       "      <td>19142.382813</td>\n",
       "      <td>2.545047e+10</td>\n",
       "      <td>9.600696e+11</td>\n",
       "      <td>0.880295</td>\n",
       "      <td>530.639785</td>\n",
       "      <td>823.240792</td>\n",
       "      <td>20063.091611</td>\n",
       "      <td>17197.366202</td>\n",
       "      <td>9.427135e+11</td>\n",
       "      <td>19142.382813</td>\n",
       "      <td>NaN</td>\n",
       "      <td>622.711806</td>\n",
       "      <td>NaN</td>\n",
       "      <td>NaN</td>\n",
       "    </tr>\n",
       "    <tr>\n",
       "      <th>...</th>\n",
       "      <td>...</td>\n",
       "      <td>...</td>\n",
       "      <td>...</td>\n",
       "      <td>...</td>\n",
       "      <td>...</td>\n",
       "      <td>...</td>\n",
       "      <td>...</td>\n",
       "      <td>...</td>\n",
       "      <td>...</td>\n",
       "      <td>...</td>\n",
       "      <td>...</td>\n",
       "      <td>...</td>\n",
       "      <td>...</td>\n",
       "      <td>...</td>\n",
       "      <td>...</td>\n",
       "      <td>...</td>\n",
       "      <td>...</td>\n",
       "      <td>...</td>\n",
       "    </tr>\n",
       "    <tr>\n",
       "      <th>2021-12-04</th>\n",
       "      <td>2021-12-04</td>\n",
       "      <td>53727.878906</td>\n",
       "      <td>53904.679688</td>\n",
       "      <td>42874.617188</td>\n",
       "      <td>49200.703125</td>\n",
       "      <td>6.138568e+10</td>\n",
       "      <td>1.215331e+12</td>\n",
       "      <td>1.000000</td>\n",
       "      <td>-1922.827523</td>\n",
       "      <td>3459.020926</td>\n",
       "      <td>63027.952651</td>\n",
       "      <td>51166.234459</td>\n",
       "      <td>1.304646e+12</td>\n",
       "      <td>NaN</td>\n",
       "      <td>NaN</td>\n",
       "      <td>-1329.550333</td>\n",
       "      <td>NaN</td>\n",
       "      <td>NaN</td>\n",
       "    </tr>\n",
       "    <tr>\n",
       "      <th>2021-12-05</th>\n",
       "      <td>2021-12-05</td>\n",
       "      <td>49201.519531</td>\n",
       "      <td>49768.148438</td>\n",
       "      <td>47857.496094</td>\n",
       "      <td>49368.847656</td>\n",
       "      <td>3.719820e+10</td>\n",
       "      <td>1.252529e+12</td>\n",
       "      <td>0.999542</td>\n",
       "      <td>-2274.975367</td>\n",
       "      <td>3496.532087</td>\n",
       "      <td>62457.401671</td>\n",
       "      <td>50317.883095</td>\n",
       "      <td>1.299683e+12</td>\n",
       "      <td>NaN</td>\n",
       "      <td>NaN</td>\n",
       "      <td>-1518.635340</td>\n",
       "      <td>NaN</td>\n",
       "      <td>NaN</td>\n",
       "    </tr>\n",
       "    <tr>\n",
       "      <th>2021-12-06</th>\n",
       "      <td>2021-12-06</td>\n",
       "      <td>49413.480469</td>\n",
       "      <td>50929.519531</td>\n",
       "      <td>47281.035156</td>\n",
       "      <td>50582.625000</td>\n",
       "      <td>3.770731e+10</td>\n",
       "      <td>1.290236e+12</td>\n",
       "      <td>0.994572</td>\n",
       "      <td>-2428.123486</td>\n",
       "      <td>3500.958147</td>\n",
       "      <td>62231.103237</td>\n",
       "      <td>49586.319420</td>\n",
       "      <td>1.298783e+12</td>\n",
       "      <td>NaN</td>\n",
       "      <td>NaN</td>\n",
       "      <td>-1700.532969</td>\n",
       "      <td>NaN</td>\n",
       "      <td>NaN</td>\n",
       "    </tr>\n",
       "    <tr>\n",
       "      <th>2021-12-07</th>\n",
       "      <td>2021-12-07</td>\n",
       "      <td>50581.828125</td>\n",
       "      <td>51934.781250</td>\n",
       "      <td>50175.808594</td>\n",
       "      <td>50700.085938</td>\n",
       "      <td>3.367681e+10</td>\n",
       "      <td>1.323913e+12</td>\n",
       "      <td>0.993846</td>\n",
       "      <td>-2511.070302</td>\n",
       "      <td>3466.402344</td>\n",
       "      <td>61790.367921</td>\n",
       "      <td>49060.262157</td>\n",
       "      <td>1.301177e+12</td>\n",
       "      <td>50700.085938</td>\n",
       "      <td>NaN</td>\n",
       "      <td>-1862.640436</td>\n",
       "      <td>NaN</td>\n",
       "      <td>NaN</td>\n",
       "    </tr>\n",
       "    <tr>\n",
       "      <th>2021-12-08</th>\n",
       "      <td>2021-12-08</td>\n",
       "      <td>50559.761719</td>\n",
       "      <td>50816.355469</td>\n",
       "      <td>50175.984375</td>\n",
       "      <td>50274.976563</td>\n",
       "      <td>3.228972e+10</td>\n",
       "      <td>1.291623e+12</td>\n",
       "      <td>0.995139</td>\n",
       "      <td>-2581.352797</td>\n",
       "      <td>3380.797154</td>\n",
       "      <td>61811.037538</td>\n",
       "      <td>48372.876524</td>\n",
       "      <td>1.300267e+12</td>\n",
       "      <td>NaN</td>\n",
       "      <td>50274.976563</td>\n",
       "      <td>-2006.382908</td>\n",
       "      <td>NaN</td>\n",
       "      <td>NaN</td>\n",
       "    </tr>\n",
       "  </tbody>\n",
       "</table>\n",
       "<p>365 rows × 18 columns</p>\n",
       "</div>"
      ],
      "text/plain": [
       "                  Date          Open          High           Low  \\\n",
       "2020-12-09  2020-12-09  18320.884766  18626.292969  17935.546875   \n",
       "2020-12-10  2020-12-10  18553.298828  18553.298828  17957.064453   \n",
       "2020-12-11  2020-12-11  18263.929688  18268.453125  17619.533203   \n",
       "2020-12-12  2020-12-12  18051.320313  18919.550781  18046.041016   \n",
       "2020-12-13  2020-12-13  18806.765625  19381.535156  18734.332031   \n",
       "...                ...           ...           ...           ...   \n",
       "2021-12-04  2021-12-04  53727.878906  53904.679688  42874.617188   \n",
       "2021-12-05  2021-12-05  49201.519531  49768.148438  47857.496094   \n",
       "2021-12-06  2021-12-06  49413.480469  50929.519531  47281.035156   \n",
       "2021-12-07  2021-12-07  50581.828125  51934.781250  50175.808594   \n",
       "2021-12-08  2021-12-08  50559.761719  50816.355469  50175.984375   \n",
       "\n",
       "                   Close        Volume           OBV       RSI         MACD  \\\n",
       "2020-12-09  18553.916016  3.442037e+10  9.663333e+11  0.000000   726.387806   \n",
       "2020-12-10  18264.992188  2.554713e+10  9.407862e+11  0.546886   637.850069   \n",
       "2020-12-11  18058.904297  2.791964e+10  9.128665e+11  0.601216   544.773889   \n",
       "2020-12-12  18803.656250  2.175258e+10  9.346191e+11  0.991425   525.053120   \n",
       "2020-12-13  19142.382813  2.545047e+10  9.600696e+11  0.880295   530.639785   \n",
       "...                  ...           ...           ...       ...          ...   \n",
       "2021-12-04  49200.703125  6.138568e+10  1.215331e+12  1.000000 -1922.827523   \n",
       "2021-12-05  49368.847656  3.719820e+10  1.252529e+12  0.999542 -2274.975367   \n",
       "2021-12-06  50582.625000  3.770731e+10  1.290236e+12  0.994572 -2428.123486   \n",
       "2021-12-07  50700.085938  3.367681e+10  1.323913e+12  0.993846 -2511.070302   \n",
       "2021-12-08  50274.976563  3.228972e+10  1.291623e+12  0.995139 -2581.352797   \n",
       "\n",
       "                    ATR  Upper Bollinger Band  Lower Bollinger Band  \\\n",
       "2020-12-09   990.038226          20003.400167          17229.831083   \n",
       "2020-12-10   853.009766          19994.456887          17203.142136   \n",
       "2020-12-11   833.746931          19985.700270          17153.565942   \n",
       "2020-12-12   828.762835          20007.792617          17174.839024   \n",
       "2020-12-13   823.240792          20063.091611          17197.366202   \n",
       "...                 ...                   ...                   ...   \n",
       "2021-12-04  3459.020926          63027.952651          51166.234459   \n",
       "2021-12-05  3496.532087          62457.401671          50317.883095   \n",
       "2021-12-06  3500.958147          62231.103237          49586.319420   \n",
       "2021-12-07  3466.402344          61790.367921          49060.262157   \n",
       "2021-12-08  3380.797154          61811.037538          48372.876524   \n",
       "\n",
       "                 OBV_EMA  OBV_Buy_Price  OBV_Sell_Price     MACD_EMA  \\\n",
       "2020-12-09  9.663333e+11            NaN             NaN   726.387806   \n",
       "2020-12-10  9.529211e+11            NaN             NaN   708.680258   \n",
       "2020-12-11  9.382133e+11            NaN             NaN   675.898985   \n",
       "2020-12-12  9.371757e+11            NaN             NaN   645.729812   \n",
       "2020-12-13  9.427135e+11   19142.382813             NaN   622.711806   \n",
       "...                  ...            ...             ...          ...   \n",
       "2021-12-04  1.304646e+12            NaN             NaN -1329.550333   \n",
       "2021-12-05  1.299683e+12            NaN             NaN -1518.635340   \n",
       "2021-12-06  1.298783e+12            NaN             NaN -1700.532969   \n",
       "2021-12-07  1.301177e+12   50700.085938             NaN -1862.640436   \n",
       "2021-12-08  1.300267e+12            NaN    50274.976563 -2006.382908   \n",
       "\n",
       "            MACD_Buy_Price  MACD_Sell_Price  \n",
       "2020-12-09             NaN              NaN  \n",
       "2020-12-10             NaN              NaN  \n",
       "2020-12-11             NaN              NaN  \n",
       "2020-12-12             NaN              NaN  \n",
       "2020-12-13             NaN              NaN  \n",
       "...                    ...              ...  \n",
       "2021-12-04             NaN              NaN  \n",
       "2021-12-05             NaN              NaN  \n",
       "2021-12-06             NaN              NaN  \n",
       "2021-12-07             NaN              NaN  \n",
       "2021-12-08             NaN              NaN  \n",
       "\n",
       "[365 rows x 18 columns]"
      ]
     },
     "execution_count": 18,
     "metadata": {},
     "output_type": "execute_result"
    }
   ],
   "source": [
    "df"
   ]
  },
  {
   "cell_type": "code",
   "execution_count": 23,
   "id": "69667970",
   "metadata": {},
   "outputs": [
    {
     "data": {
      "image/png": "[encoded data removed]",
      "text/plain": [
       "<Figure size 936x360 with 1 Axes>"
      ]
     },
     "metadata": {},
     "output_type": "display_data"
    }
   ],
   "source": [
    "# View MACD and OBV signals\n",
    "plt.figure(figsize=(13, 5))\n",
    "plt.plot(df['Close'], label='Close', alpha=0.5)\n",
    "plt.scatter(df.index, df['OBV_Buy_Price'], label='OBV Buy Signal', marker='^', color='green')\n",
    "plt.scatter(df.index, df['OBV_Sell_Price'], label='OBV Sell Signal', marker='v', color='red')\n",
    "# plt.scatter(df.index, df['MACD_Buy_Price'], label='MACD Buy Signal', marker='^', color='purple')\n",
    "plt.scatter(df.index, df['MACD_Sell_Price'], label='MACD Sell Signal', marker='v', color='black')\n",
    "plt.title('Buy Sell Signals')\n",
    "plt.xlabel('Date', fontsize=18)\n",
    "plt.ylabel('Price USD', fontsize=18)\n",
    "plt.legend(loc='upper left')\n",
    "plt.show()"
   ]
  },
  {
   "cell_type": "markdown",
   "id": "f227e974",
   "metadata": {},
   "source": [
    "Plot hints at MACD being a better sell signal than OBV"
   ]
  },
  {
   "cell_type": "code",
   "execution_count": 103,
   "id": "aadbae7e",
   "metadata": {},
   "outputs": [],
   "source": [
    "def execute_MACD_OBV(data, use_stop_loss=False):\n",
    "    capital = 100\n",
    "    holdQty = 0\n",
    "    stopLoss = 0\n",
    "    isHolding = False\n",
    "    for i in range(len(data)):\n",
    "        buyPrice = data.OBV_Buy_Price[i]\n",
    "        sellPrice = data.MACD_Sell_Price[i]\n",
    "        dayClose = data.Close[i]\n",
    "        if(not isHolding and not np.isnan(buyPrice)):\n",
    "            holdQty = capital / buyPrice\n",
    "            isHolding = True\n",
    "        elif(isHolding and not np.isnan(sellPrice)):\n",
    "            capital = holdQty * sellPrice\n",
    "            isHolding = False\n",
    "        elif(use_stop_loss and isHolding and dayClose < stopLoss):\n",
    "            capital = holdQty * dayClose\n",
    "            isHolding = False\n",
    "        else:\n",
    "            continue\n",
    "        stopLoss = dayClose - data.ATR[i]\n",
    "    percentageChange = capital - 100\n",
    "    return np.round(percentageChange, 3)"
   ]
  },
  {
   "cell_type": "code",
   "execution_count": 104,
   "id": "b2216ffe",
   "metadata": {},
   "outputs": [
    {
     "name": "stdout",
     "output_type": "stream",
     "text": [
      "OBV to signal buy and MACD to signal sell with 1 ATR stop loss: 570.307\n"
     ]
    }
   ],
   "source": [
    "print(f'OBV to signal buy and MACD to signal sell with 1 ATR stop loss: {execute_MACD_OBV(df, use_stop_loss=True)}%')"
   ]
  },
  {
   "cell_type": "code",
   "execution_count": 105,
   "id": "538fd1a0",
   "metadata": {},
   "outputs": [
    {
     "name": "stdout",
     "output_type": "stream",
     "text": [
      "OBV to signal buy and MACD to signal sell without stop loss: 328.943\n"
     ]
    }
   ],
   "source": [
    "print(f'OBV to signal buy and MACD to signal sell without stop loss: {execute_MACD_OBV(df, False)}%')"
   ]
  },
  {
   "cell_type": "markdown",
   "id": "1b598c76",
   "metadata": {},
   "source": [
    "The performance of OBV and MACD with ATR although less than pure OBM, might be better suited for sideway or downtrend markets as it is more ready to close positions. A 570% return is almost similar to the buy and hold strategy."
   ]
  }
 ],
 "metadata": {
  "kernelspec": {
   "display_name": "Python 3 (ipykernel)",
   "language": "python",
   "name": "python3"
  },
  "language_info": {
   "codemirror_mode": {
    "name": "ipython",
    "version": 3
   },
   "file_extension": ".py",
   "mimetype": "text/x-python",
   "name": "python",
   "nbconvert_exporter": "python",
   "pygments_lexer": "ipython3",
   "version": "3.9.7"
  }
 },
 "nbformat": 4,
 "nbformat_minor": 5
}
